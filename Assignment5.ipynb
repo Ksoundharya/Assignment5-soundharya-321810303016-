{
 "cells": [
  {
   "cell_type": "markdown",
   "metadata": {},
   "source": [
    "1.write a python program to find area of circle using math function?\n"
   ]
  },
  {
   "cell_type": "code",
   "execution_count": 1,
   "metadata": {},
   "outputs": [
    {
     "name": "stdout",
     "output_type": "stream",
     "text": [
      "enter the radius of the circle:2\n",
      "12.566370614359172\n"
     ]
    }
   ],
   "source": [
    "import math\n",
    "r=float(input(\"enter the radius of the circle:\"))\n",
    "area=math.pi* r * r\n",
    "print(area)"
   ]
  },
  {
   "cell_type": "markdown",
   "metadata": {},
   "source": [
    "2.write a program to find area of regular polygon using math function?"
   ]
  },
  {
   "cell_type": "code",
   "execution_count": 2,
   "metadata": {},
   "outputs": [
    {
     "name": "stdout",
     "output_type": "stream",
     "text": [
      "input number of sides: 5\n",
      "input the length of a side: 15\n",
      "the area of the polygon is:  387.1074151325176\n"
     ]
    }
   ],
   "source": [
    "from math import tan,pi\n",
    "n=int(input(\"input number of sides: \"))\n",
    "length=float(input(\"input the length of a side: \"))\n",
    "area=n * (length**2) / (4 * tan(pi / n))\n",
    "print(\"the area of the polygon is: \",area)"
   ]
  },
  {
   "cell_type": "markdown",
   "metadata": {},
   "source": [
    "3.write a program to find area of a segment of a circle formula using math function?"
   ]
  },
  {
   "cell_type": "code",
   "execution_count": 10,
   "metadata": {},
   "outputs": [
    {
     "name": "stdout",
     "output_type": "stream",
     "text": [
      "enter the radius:20\n",
      "enter the angle60\n",
      "area of minor segement= 36.23442948243181\n",
      "area of major segement= 1220.4026319534855\n"
     ]
    }
   ],
   "source": [
    "import math\n",
    "def segmentarea(r,angle):\n",
    "    areaofsector = pi * (r * r) * (angle / 360)\n",
    "    areaoftriangle = 1 / 2 *(r * r) *math.sin((angle * pi) / 180)\n",
    "    return areaofsector - areaoftriangle;\n",
    "r=int(input(\"enter the radius:\"))\n",
    "angle=int(input(\"enter the angle\"))\n",
    "print(\"area of minor segement=\" ,segmentarea(r ,angle))\n",
    "print(\"area of major segement=\" ,segmentarea(r , (360-angle)))\n",
    "    "
   ]
  },
  {
   "cell_type": "markdown",
   "metadata": {},
   "source": [
    "4.wrie a python program to shuffle list |1=[100,1,2,3,30,40,\"hai\",\"hello\"]?"
   ]
  },
  {
   "cell_type": "code",
   "execution_count": 11,
   "metadata": {},
   "outputs": [
    {
     "ename": "SyntaxError",
     "evalue": "invalid syntax (<ipython-input-11-ad607103174a>, line 2)",
     "output_type": "error",
     "traceback": [
      "\u001b[1;36m  File \u001b[1;32m\"<ipython-input-11-ad607103174a>\"\u001b[1;36m, line \u001b[1;32m2\u001b[0m\n\u001b[1;33m    |1=[100,1,2,3,30,40,\"hai\",\"hello\"]\u001b[0m\n\u001b[1;37m    ^\u001b[0m\n\u001b[1;31mSyntaxError\u001b[0m\u001b[1;31m:\u001b[0m invalid syntax\n"
     ]
    }
   ],
   "source": [
    "from random import shuffle\n",
    "|1=[100,1,2,3,30,40,\"hai\",\"hello\"]\n",
    "shuffle(|1)\n",
    "print(|1)"
   ]
  },
  {
   "cell_type": "markdown",
   "metadata": {},
   "source": [
    "4.write a program to generate random numbers between 1,10000 and difference between each random number is 50?"
   ]
  },
  {
   "cell_type": "code",
   "execution_count": 14,
   "metadata": {},
   "outputs": [
    {
     "name": "stdout",
     "output_type": "stream",
     "text": [
      "270\n",
      "320\n",
      "370\n",
      "420\n",
      "470\n",
      "520\n",
      "570\n",
      "620\n",
      "670\n",
      "720\n",
      "770\n",
      "820\n",
      "870\n",
      "920\n",
      "970\n",
      "1020\n"
     ]
    }
   ],
   "source": [
    "import random\n",
    "n= random.randint(1,1000)\n",
    "print(n)\n",
    "\n",
    "while(n<1000):\n",
    "    n=n+50\n",
    "    print(n)"
   ]
  },
  {
   "cell_type": "markdown",
   "metadata": {},
   "source": [
    "6.write a python program by using math module to find?"
   ]
  },
  {
   "cell_type": "markdown",
   "metadata": {},
   "source": [
    "a.sin60"
   ]
  },
  {
   "cell_type": "code",
   "execution_count": 15,
   "metadata": {},
   "outputs": [
    {
     "name": "stdout",
     "output_type": "stream",
     "text": [
      "-0.3048106211022167\n"
     ]
    }
   ],
   "source": [
    "import math\n",
    "sine=math.sin(60)\n",
    "print(sine)"
   ]
  },
  {
   "cell_type": "markdown",
   "metadata": {},
   "source": [
    "b.cos(pi)"
   ]
  },
  {
   "cell_type": "code",
   "execution_count": 16,
   "metadata": {},
   "outputs": [
    {
     "name": "stdout",
     "output_type": "stream",
     "text": [
      "-1.0\n"
     ]
    }
   ],
   "source": [
    "import math\n",
    "co=math.cos(pi)\n",
    "print(co)"
   ]
  },
  {
   "cell_type": "markdown",
   "metadata": {},
   "source": [
    "c.tan(90)"
   ]
  },
  {
   "cell_type": "code",
   "execution_count": 17,
   "metadata": {},
   "outputs": [
    {
     "name": "stdout",
     "output_type": "stream",
     "text": [
      "-1.995200412208242\n"
     ]
    }
   ],
   "source": [
    "import math\n",
    "ta=math.tan(90)\n",
    "print(ta)"
   ]
  },
  {
   "cell_type": "markdown",
   "metadata": {},
   "source": [
    "d.angle of sin(0.8660254037844386)"
   ]
  },
  {
   "cell_type": "code",
   "execution_count": 19,
   "metadata": {},
   "outputs": [
    {
     "name": "stdout",
     "output_type": "stream",
     "text": [
      "0.7617599814162892\n"
     ]
    }
   ],
   "source": [
    "import math\n",
    "\n",
    "print(math.sin((0.86602540378443860009)))"
   ]
  },
  {
   "cell_type": "markdown",
   "metadata": {},
   "source": [
    "e.5^8"
   ]
  },
  {
   "cell_type": "code",
   "execution_count": 20,
   "metadata": {},
   "outputs": [
    {
     "name": "stdout",
     "output_type": "stream",
     "text": [
      "390625\n"
     ]
    }
   ],
   "source": [
    "print(5**8)"
   ]
  },
  {
   "cell_type": "markdown",
   "metadata": {},
   "source": [
    "f.square root of 400"
   ]
  },
  {
   "cell_type": "code",
   "execution_count": 21,
   "metadata": {},
   "outputs": [
    {
     "name": "stdout",
     "output_type": "stream",
     "text": [
      "20.0\n"
     ]
    }
   ],
   "source": [
    "print(400**0.5)"
   ]
  },
  {
   "cell_type": "markdown",
   "metadata": {},
   "source": [
    "g.the value of 5^e"
   ]
  },
  {
   "cell_type": "code",
   "execution_count": 23,
   "metadata": {},
   "outputs": [
    {
     "name": "stdout",
     "output_type": "stream",
     "text": [
      "13.591409142295225\n"
     ]
    }
   ],
   "source": [
    "import math\n",
    "print(5*(math.e))"
   ]
  },
  {
   "cell_type": "markdown",
   "metadata": {},
   "source": [
    "h.the value of log(1024),base 2"
   ]
  },
  {
   "cell_type": "code",
   "execution_count": 24,
   "metadata": {},
   "outputs": [
    {
     "name": "stdout",
     "output_type": "stream",
     "text": [
      "10.0\n"
     ]
    }
   ],
   "source": [
    "import math\n",
    "print(math.log2(1024))"
   ]
  },
  {
   "cell_type": "markdown",
   "metadata": {},
   "source": [
    "i.the value of log(1024),base10"
   ]
  },
  {
   "cell_type": "code",
   "execution_count": 25,
   "metadata": {},
   "outputs": [
    {
     "name": "stdout",
     "output_type": "stream",
     "text": [
      "3.010299956639812\n"
     ]
    }
   ],
   "source": [
    "import math\n",
    "print(math.log10(1024))"
   ]
  },
  {
   "cell_type": "markdown",
   "metadata": {},
   "source": [
    "j.the floor and celling value of 23.56"
   ]
  },
  {
   "cell_type": "code",
   "execution_count": 26,
   "metadata": {},
   "outputs": [
    {
     "name": "stdout",
     "output_type": "stream",
     "text": [
      "23\n",
      "24\n"
     ]
    }
   ],
   "source": [
    "import math\n",
    "print(math.floor(23.56))\n",
    "print(math.ceil(23.56))"
   ]
  },
  {
   "cell_type": "code",
   "execution_count": null,
   "metadata": {},
   "outputs": [],
   "source": []
  }
 ],
 "metadata": {
  "kernelspec": {
   "display_name": "Python 3",
   "language": "python",
   "name": "python3"
  },
  "language_info": {
   "codemirror_mode": {
    "name": "ipython",
    "version": 3
   },
   "file_extension": ".py",
   "mimetype": "text/x-python",
   "name": "python",
   "nbconvert_exporter": "python",
   "pygments_lexer": "ipython3",
   "version": "3.7.4"
  }
 },
 "nbformat": 4,
 "nbformat_minor": 2
}
